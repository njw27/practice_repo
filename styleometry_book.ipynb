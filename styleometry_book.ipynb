{
 "cells": [
  {
   "cell_type": "code",
   "execution_count": 1,
   "id": "26a27933",
   "metadata": {},
   "outputs": [],
   "source": [
    "import numpy as np\n",
    "import pandas as pd\n",
    "import matplotlib.pyplot as plt"
   ]
  },
  {
   "cell_type": "markdown",
   "id": "7ebb8d6f",
   "metadata": {},
   "source": [
    "NLP - WRITER ANALYZER"
   ]
  },
  {
   "cell_type": "markdown",
   "id": "77887a86",
   "metadata": {},
   "source": [
    "To answer the question once and for all if Kit Marlowe was Shakespeare and vice versa. Will import boths' complete works. Will create the \"Marlowe detector\" based on about 70% of Marlowe's work. Will test with unseen confirmed Marlowe plays to confirm it is working. Then will test on some Shakespeare work to see what the score is.  "
   ]
  },
  {
   "cell_type": "markdown",
   "id": "ec7dfe11",
   "metadata": {},
   "source": [
    "Source texts as .txt files from Project Gutenberg. Individual Plays. \n"
   ]
  },
  {
   "cell_type": "markdown",
   "id": "a8067d94",
   "metadata": {},
   "source": [
    "Download individual books? Or Collection?\n",
    "Individual folders?\n",
    "Or one big?"
   ]
  },
  {
   "cell_type": "markdown",
   "id": "329a97cb",
   "metadata": {},
   "source": [
    "\n",
    "\n",
    "\n",
    "Test Text.\n"
   ]
  },
  {
   "cell_type": "code",
   "execution_count": 2,
   "id": "10a26f34",
   "metadata": {},
   "outputs": [],
   "source": [
    "        def stemmer(text):\n",
    "            # Write your code here\n",
    "            text2 = str(text)\n",
    "            text = text2.split()\n",
    "            new_text = []\n",
    "            new_text2=[]\n",
    "            for word in text:\n",
    "                if word.endswith('ed'):\n",
    "                    new_word = word[:-2]\n",
    "                    new_text.append(new_word)\n",
    "                elif word.endswith('ly'):\n",
    "                    new_word = word[:-2]\n",
    "                    new_text.append(new_word)\n",
    "                elif word.endswith('ing'):\n",
    "                    new_word = word[:-3]\n",
    "                    new_text.append(new_word)\n",
    "                else:\n",
    "                    new_text.append(word)\n",
    "            for word in new_text:\n",
    "                if len(word)>8:\n",
    "                    new_word2 = word[:8]\n",
    "                    new_text2.append(new_word2)\n",
    "                else:\n",
    "                    new_text2.append(word)\n",
    "            return \" \".join(new_text2)\n"
   ]
  },
  {
   "cell_type": "code",
   "execution_count": 3,
   "id": "0d206d3e",
   "metadata": {},
   "outputs": [
    {
     "data": {
      "text/plain": [
       "'hello my excellen read leaver wry'"
      ]
     },
     "execution_count": 3,
     "metadata": {},
     "output_type": "execute_result"
    }
   ],
   "source": [
    "stemmer(\"hello my excellent reading leavered wryly\")"
   ]
  },
  {
   "cell_type": "code",
   "execution_count": 4,
   "id": "2b7491b6",
   "metadata": {},
   "outputs": [],
   "source": [
    "from string import ascii_lowercase\n",
    "\n",
    "def cr(mes, rotation=4):\n",
    "    rotated = ascii_lowercase[rotation:]+ascii_lowercase[:rotation]\n",
    "    cipher = {o in n for o, n in zip(ascii_lowercase,rotated)}\n",
    "    \n",
    "    encoded = []\n",
    "    for char in mes.lower():\n",
    "        if char in cipher:\n",
    "            encoded.append(cipher[char])\n",
    "        else:\n",
    "            encoded.append(char)\n",
    "    return \" \".join(encoded)\n",
    "    "
   ]
  },
  {
   "cell_type": "code",
   "execution_count": 6,
   "id": "81429928",
   "metadata": {},
   "outputs": [
    {
     "data": {
      "text/plain": [
       "'h e l l o   b u d d y'"
      ]
     },
     "execution_count": 6,
     "metadata": {},
     "output_type": "execute_result"
    }
   ],
   "source": [
    "cr(\"HELLO BUDDY\") "
   ]
  },
  {
   "cell_type": "code",
   "execution_count": null,
   "id": "8f9d8be1",
   "metadata": {},
   "outputs": [],
   "source": []
  },
  {
   "cell_type": "code",
   "execution_count": null,
   "id": "fc031e84",
   "metadata": {},
   "outputs": [],
   "source": []
  },
  {
   "cell_type": "code",
   "execution_count": null,
   "id": "a079009c",
   "metadata": {},
   "outputs": [],
   "source": []
  },
  {
   "cell_type": "code",
   "execution_count": null,
   "id": "ea9a862c",
   "metadata": {},
   "outputs": [],
   "source": []
  }
 ],
 "metadata": {
  "kernelspec": {
   "display_name": "Python 3",
   "language": "python",
   "name": "python3"
  },
  "language_info": {
   "codemirror_mode": {
    "name": "ipython",
    "version": 3
   },
   "file_extension": ".py",
   "mimetype": "text/x-python",
   "name": "python",
   "nbconvert_exporter": "python",
   "pygments_lexer": "ipython3",
   "version": "3.8.5"
  }
 },
 "nbformat": 4,
 "nbformat_minor": 5
}
