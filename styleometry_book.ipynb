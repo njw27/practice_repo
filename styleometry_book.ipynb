{
 "cells": [
  {
   "cell_type": "code",
   "execution_count": 2,
   "id": "0f9f2330",
   "metadata": {},
   "outputs": [],
   "source": [
    "import numpy as np\n",
    "import pandas as pd\n",
    "import matplotlib.pyplot as plt"
   ]
  },
  {
   "cell_type": "markdown",
   "id": "f43464fd",
   "metadata": {},
   "source": [
    "NLP - WRITER ANALYZER"
   ]
  },
  {
   "cell_type": "markdown",
   "id": "002eab5a",
   "metadata": {},
   "source": [
    "To answer the question once and for all if Kit Marlowe was Shakespeare and vice versa. Will import boths' complete works. Will create the \"Marlowe detector\" based on about 70% of Marlowe's work. Will test with unseen confirmed Marlowe plays to confirm it is working. Then will test on some Shakespeare work to see what the score is.  "
   ]
  },
  {
   "cell_type": "markdown",
   "id": "77973d8e",
   "metadata": {},
   "source": [
    "Source texts as .txt files from Project Gutenberg. Individual Plays. \n"
   ]
  },
  {
   "cell_type": "markdown",
   "id": "fdd63432",
   "metadata": {},
   "source": [
    "Download individual books? Or Collection?\n",
    "Individual folders?\n",
    "Or one big?"
   ]
  },
  {
   "cell_type": "markdown",
   "id": "ab96fbfe",
   "metadata": {},
   "source": [
    "\n",
    "\n",
    "\n",
    "Test Text  .\n"
   ]
  },
  {
   "cell_type": "code",
   "execution_count": null,
   "id": "5893bf6c",
   "metadata": {},
   "outputs": [],
   "source": []
  },
  {
   "cell_type": "code",
   "execution_count": null,
   "id": "8cc5da92",
   "metadata": {},
   "outputs": [],
   "source": []
  },
  {
   "cell_type": "code",
   "execution_count": null,
   "id": "28e4573d",
   "metadata": {},
   "outputs": [],
   "source": []
  },
  {
   "cell_type": "code",
   "execution_count": null,
   "id": "d6189a54",
   "metadata": {},
   "outputs": [],
   "source": []
  },
  {
   "cell_type": "code",
   "execution_count": null,
   "id": "490940d8",
   "metadata": {},
   "outputs": [],
   "source": []
  },
  {
   "cell_type": "code",
   "execution_count": null,
   "id": "546117ad",
   "metadata": {},
   "outputs": [],
   "source": []
  },
  {
   "cell_type": "code",
   "execution_count": null,
   "id": "10ac7f92",
   "metadata": {},
   "outputs": [],
   "source": []
  },
  {
   "cell_type": "code",
   "execution_count": null,
   "id": "4d74cb76",
   "metadata": {},
   "outputs": [],
   "source": []
  }
 ],
 "metadata": {
  "kernelspec": {
   "display_name": "Python 3",
   "language": "python",
   "name": "python3"
  },
  "language_info": {
   "codemirror_mode": {
    "name": "ipython",
    "version": 3
   },
   "file_extension": ".py",
   "mimetype": "text/x-python",
   "name": "python",
   "nbconvert_exporter": "python",
   "pygments_lexer": "ipython3",
   "version": "3.8.5"
  }
 },
 "nbformat": 4,
 "nbformat_minor": 5
}
