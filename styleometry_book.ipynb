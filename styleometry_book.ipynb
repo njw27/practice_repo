{
 "cells": [
  {
   "cell_type": "code",
   "execution_count": 2,
   "id": "1d00987f",
   "metadata": {},
   "outputs": [],
   "source": [
    "import numpy as np\n",
    "import pandas as pd\n",
    "import matplotlib.pyplot as plt"
   ]
  },
  {
   "cell_type": "markdown",
   "id": "983ffe6f",
   "metadata": {},
   "source": [
    "NLP - WRITER ANALYZER"
   ]
  },
  {
   "cell_type": "markdown",
   "id": "b124a401",
   "metadata": {},
   "source": [
    "To answer the question once and for all if Kit Marlowe was Shakespeare and vice versa. Will import boths' complete works. Will create the \"Marlowe detector\" based on about 70% of Marlowe's work. Will test with unseen confirmed Marlowe plays to confirm it is working. Then will test on some Shakespeare work to see what the score is.  "
   ]
  },
  {
   "cell_type": "markdown",
   "id": "2260cbed",
   "metadata": {},
   "source": [
    "Source texts as .txt files from Project Gutenberg. Individual Plays. \n"
   ]
  },
  {
   "cell_type": "markdown",
   "id": "a1a9fcdc",
   "metadata": {},
   "source": [
    "Download individual books? Or Collection?\n"
   ]
  },
  {
   "cell_type": "code",
   "execution_count": null,
   "id": "bf850771",
   "metadata": {},
   "outputs": [],
   "source": []
  }
 ],
 "metadata": {
  "kernelspec": {
   "display_name": "Python 3",
   "language": "python",
   "name": "python3"
  },
  "language_info": {
   "codemirror_mode": {
    "name": "ipython",
    "version": 3
   },
   "file_extension": ".py",
   "mimetype": "text/x-python",
   "name": "python",
   "nbconvert_exporter": "python",
   "pygments_lexer": "ipython3",
   "version": "3.8.5"
  }
 },
 "nbformat": 4,
 "nbformat_minor": 5
}
