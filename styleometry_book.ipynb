{
 "cells": [
  {
   "cell_type": "code",
   "execution_count": 2,
   "id": "d496ea77",
   "metadata": {},
   "outputs": [],
   "source": [
    "import numpy as np\n",
    "import pandas as pd\n",
    "import matplotlib.pyplot as plt"
   ]
  },
  {
   "cell_type": "markdown",
   "id": "e86db6d6",
   "metadata": {},
   "source": [
    "NLP - WRITER ANALYZER"
   ]
  },
  {
   "cell_type": "markdown",
   "id": "fe9b5b1a",
   "metadata": {},
   "source": [
    "To answer the question once and for all if Kit Marlowe was Shakespeare and vice versa. Will import boths' complete works. Will create the \"Marlowe detector\" based on about 70% of Marlowe's work. Will test with unseen confirmed Marlowe plays to confirm it is working. Then will test on some Shakespeare work to see what the score is.  "
   ]
  },
  {
   "cell_type": "markdown",
   "id": "a434aea0",
   "metadata": {},
   "source": [
    "Source texts as .txt files from Project Gutenberg. Individual Plays. \n"
   ]
  },
  {
   "cell_type": "markdown",
   "id": "a0a887e5",
   "metadata": {},
   "source": [
    "Download individual books? Or Collection?\n",
    "Individual folders?\n",
    "Or one big?"
   ]
  },
  {
   "cell_type": "markdown",
   "id": "a509127e",
   "metadata": {},
   "source": [
    "\n",
    "\n",
    "\n",
    "Test Text.\n"
   ]
  },
  {
   "cell_type": "code",
   "execution_count": 16,
   "id": "cf1f950e",
   "metadata": {},
   "outputs": [],
   "source": [
    "        def stemmer(text):\n",
    "            # Write your code here\n",
    "            text2 = str(text)\n",
    "            text = text2.split()\n",
    "            new_text = []\n",
    "            new_text2=[]\n",
    "            for word in text:\n",
    "                if word.endswith('ed'):\n",
    "                    new_word = word[:-2]\n",
    "                    new_text.append(new_word)\n",
    "                elif word.endswith('ly'):\n",
    "                    new_word = word[:-2]\n",
    "                    new_text.append(new_word)\n",
    "                elif word.endswith('ing'):\n",
    "                    new_word = word[:-3]\n",
    "                    new_text.append(new_word)\n",
    "                else:\n",
    "                    new_text.append(word)\n",
    "            for word in new_text:\n",
    "                if len(word)>8:\n",
    "                    new_word2 = word[:8]\n",
    "                    new_text2.append(new_word2)\n",
    "                else:\n",
    "                    new_text2.append(word)\n",
    "            return \" \".join(new_text2)\n"
   ]
  },
  {
   "cell_type": "code",
   "execution_count": 17,
   "id": "f0c6eb8d",
   "metadata": {},
   "outputs": [
    {
     "data": {
      "text/plain": [
       "'hello my great boy of funwefsa'"
      ]
     },
     "execution_count": 17,
     "metadata": {},
     "output_type": "execute_result"
    }
   ],
   "source": [
    "stemmer(\"hello my greated boy of funwefsadfsadfnly\")"
   ]
  },
  {
   "cell_type": "code",
   "execution_count": 28,
   "id": "d7cf5015",
   "metadata": {},
   "outputs": [],
   "source": [
    "from string import ascii_lowercase\n",
    "\n",
    "def cr(mes, rotation=4):\n",
    "    rotated = ascii_lowercase[rotation:]+ascii_lowercase[:rotation]\n",
    "    cipher = {o in n for o, n in zip(ascii_lowercase,rotated)}\n",
    "    \n",
    "    encoded = []\n",
    "    for char in mes.lower():\n",
    "        if char in cipher:\n",
    "            encoded.append(cipher[char])\n",
    "        else:\n",
    "            encoded.append(char)\n",
    "    return \" \".join(encoded)\n",
    "    "
   ]
  },
  {
   "cell_type": "code",
   "execution_count": 29,
   "id": "77a749ed",
   "metadata": {},
   "outputs": [
    {
     "data": {
      "text/plain": [
       "'s u p e r'"
      ]
     },
     "execution_count": 29,
     "metadata": {},
     "output_type": "execute_result"
    }
   ],
   "source": [
    "cr(\"SUPER\") "
   ]
  },
  {
   "cell_type": "code",
   "execution_count": null,
   "id": "83672ea7",
   "metadata": {},
   "outputs": [],
   "source": []
  },
  {
   "cell_type": "code",
   "execution_count": null,
   "id": "9bca5036",
   "metadata": {},
   "outputs": [],
   "source": []
  },
  {
   "cell_type": "code",
   "execution_count": null,
   "id": "17fa8642",
   "metadata": {},
   "outputs": [],
   "source": []
  },
  {
   "cell_type": "code",
   "execution_count": null,
   "id": "715145ee",
   "metadata": {},
   "outputs": [],
   "source": []
  }
 ],
 "metadata": {
  "kernelspec": {
   "display_name": "Python 3",
   "language": "python",
   "name": "python3"
  },
  "language_info": {
   "codemirror_mode": {
    "name": "ipython",
    "version": 3
   },
   "file_extension": ".py",
   "mimetype": "text/x-python",
   "name": "python",
   "nbconvert_exporter": "python",
   "pygments_lexer": "ipython3",
   "version": "3.8.5"
  }
 },
 "nbformat": 4,
 "nbformat_minor": 5
}
