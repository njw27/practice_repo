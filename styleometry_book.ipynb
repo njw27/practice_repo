{
 "cells": [
  {
   "cell_type": "code",
   "execution_count": 2,
   "id": "2321b1bc",
   "metadata": {},
   "outputs": [],
   "source": [
    "import numpy as np\n",
    "import pandas as pd\n",
    "import matplotlib.pyplot as plt"
   ]
  },
  {
   "cell_type": "markdown",
   "id": "095d4e6d",
   "metadata": {},
   "source": [
    "NLP - WRITER ANALYZER"
   ]
  },
  {
   "cell_type": "markdown",
   "id": "0717d2ff",
   "metadata": {},
   "source": [
    "To answer the question once and for all if Kit Marlowe was Shakespeare and vice versa. Will import boths' complete works. Will create the \"Marlowe detector\" based on about 70% of Marlowe's work. Will test with unseen confirmed Marlowe plays to confirm it is working. Then will test on some Shakespeare work to see what the score is.  "
   ]
  },
  {
   "cell_type": "markdown",
   "id": "b5120ac8",
   "metadata": {},
   "source": [
    "Source texts as .txt files from Project Gutenberg. Individual Plays. \n"
   ]
  },
  {
   "cell_type": "markdown",
   "id": "fc106afb",
   "metadata": {},
   "source": [
    "Download individual books? Or Collection?\n",
    "Individual folders?\n",
    "Or one big?"
   ]
  },
  {
   "cell_type": "markdown",
   "id": "906f0436",
   "metadata": {},
   "source": [
    "\n",
    "\n",
    "\n",
    "Test Text\n"
   ]
  },
  {
   "cell_type": "code",
   "execution_count": null,
   "id": "f17b52ec",
   "metadata": {},
   "outputs": [],
   "source": []
  },
  {
   "cell_type": "code",
   "execution_count": null,
   "id": "980b2b4a",
   "metadata": {},
   "outputs": [],
   "source": []
  },
  {
   "cell_type": "code",
   "execution_count": null,
   "id": "8f97c60c",
   "metadata": {},
   "outputs": [],
   "source": []
  },
  {
   "cell_type": "code",
   "execution_count": null,
   "id": "a2171a97",
   "metadata": {},
   "outputs": [],
   "source": []
  },
  {
   "cell_type": "code",
   "execution_count": null,
   "id": "e3742cd4",
   "metadata": {},
   "outputs": [],
   "source": []
  },
  {
   "cell_type": "code",
   "execution_count": null,
   "id": "b545fb2d",
   "metadata": {},
   "outputs": [],
   "source": []
  },
  {
   "cell_type": "code",
   "execution_count": null,
   "id": "a807154e",
   "metadata": {},
   "outputs": [],
   "source": []
  },
  {
   "cell_type": "code",
   "execution_count": null,
   "id": "0286ace1",
   "metadata": {},
   "outputs": [],
   "source": []
  }
 ],
 "metadata": {
  "kernelspec": {
   "display_name": "Python 3",
   "language": "python",
   "name": "python3"
  },
  "language_info": {
   "codemirror_mode": {
    "name": "ipython",
    "version": 3
   },
   "file_extension": ".py",
   "mimetype": "text/x-python",
   "name": "python",
   "nbconvert_exporter": "python",
   "pygments_lexer": "ipython3",
   "version": "3.8.5"
  }
 },
 "nbformat": 4,
 "nbformat_minor": 5
}
