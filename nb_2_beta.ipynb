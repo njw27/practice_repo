{
 "cells": [
  {
   "cell_type": "markdown",
   "id": "ff02df5b",
   "metadata": {},
   "source": [
    "# Beta Book\n",
    "## - Using \"faststylometry\" library as base\n",
    "## - Will focus more on UI and implementation\n"
   ]
  },
  {
   "cell_type": "code",
   "execution_count": 2,
   "id": "e95f2c5e",
   "metadata": {},
   "outputs": [],
   "source": [
    "import faststylometry"
   ]
  },
  {
   "cell_type": "markdown",
   "id": "749a11a4",
   "metadata": {},
   "source": [
    "Will analyze 5%-95% (or 10%-90% for shorter?) of book content to avoid copyright/legal/dedication text at beginning and any appendix/notes/previews at end of text."
   ]
  },
  {
   "cell_type": "code",
   "execution_count": null,
   "id": "0c98dc8e",
   "metadata": {},
   "outputs": [],
   "source": []
  },
  {
   "cell_type": "code",
   "execution_count": null,
   "id": "a07c8b34",
   "metadata": {},
   "outputs": [],
   "source": []
  },
  {
   "cell_type": "code",
   "execution_count": null,
   "id": "3d3abb2a",
   "metadata": {},
   "outputs": [],
   "source": []
  },
  {
   "cell_type": "code",
   "execution_count": null,
   "id": "e821f1cf",
   "metadata": {},
   "outputs": [],
   "source": []
  },
  {
   "cell_type": "code",
   "execution_count": null,
   "id": "87324728",
   "metadata": {},
   "outputs": [],
   "source": []
  },
  {
   "cell_type": "code",
   "execution_count": null,
   "id": "626b03bc",
   "metadata": {},
   "outputs": [],
   "source": []
  },
  {
   "cell_type": "code",
   "execution_count": null,
   "id": "e4c6f485",
   "metadata": {},
   "outputs": [],
   "source": []
  },
  {
   "cell_type": "code",
   "execution_count": null,
   "id": "8c7bac5a",
   "metadata": {},
   "outputs": [],
   "source": []
  }
 ],
 "metadata": {
  "kernelspec": {
   "display_name": "Python (learn-env)",
   "language": "python",
   "name": "learn-env"
  },
  "language_info": {
   "codemirror_mode": {
    "name": "ipython",
    "version": 3
   },
   "file_extension": ".py",
   "mimetype": "text/x-python",
   "name": "python",
   "nbconvert_exporter": "python",
   "pygments_lexer": "ipython3",
   "version": "3.8.5"
  }
 },
 "nbformat": 4,
 "nbformat_minor": 5
}
