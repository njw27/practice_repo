{
 "cells": [
  {
   "cell_type": "markdown",
   "id": "96d990ed",
   "metadata": {},
   "source": [
    "# Beta Book\n",
    "## - Using \"faststylometry\" library as base\n",
    "## - Will focus more on UI and implementation\n"
   ]
  },
  {
   "cell_type": "code",
   "execution_count": 2,
   "id": "d64cb8c8",
   "metadata": {},
   "outputs": [],
   "source": [
    "import faststylometry"
   ]
  },
  {
   "cell_type": "markdown",
   "id": "d7707187",
   "metadata": {},
   "source": [
    "Will analyze 5%-95% (or 10%-90% for shorter?) of book content to avoid copyright/legal/dedication text at beginning and any appendix/notes/previews at end of text"
   ]
  },
  {
   "cell_type": "code",
   "execution_count": null,
   "id": "e61a80cf",
   "metadata": {},
   "outputs": [],
   "source": []
  },
  {
   "cell_type": "code",
   "execution_count": null,
   "id": "3a01941f",
   "metadata": {},
   "outputs": [],
   "source": []
  },
  {
   "cell_type": "code",
   "execution_count": null,
   "id": "392c6502",
   "metadata": {},
   "outputs": [],
   "source": []
  },
  {
   "cell_type": "code",
   "execution_count": null,
   "id": "5a99aa3f",
   "metadata": {},
   "outputs": [],
   "source": []
  },
  {
   "cell_type": "code",
   "execution_count": null,
   "id": "c1b16091",
   "metadata": {},
   "outputs": [],
   "source": []
  },
  {
   "cell_type": "code",
   "execution_count": null,
   "id": "0f1f6ecd",
   "metadata": {},
   "outputs": [],
   "source": []
  },
  {
   "cell_type": "code",
   "execution_count": null,
   "id": "77bfd85c",
   "metadata": {},
   "outputs": [],
   "source": []
  },
  {
   "cell_type": "code",
   "execution_count": null,
   "id": "52e30c08",
   "metadata": {},
   "outputs": [],
   "source": []
  }
 ],
 "metadata": {
  "kernelspec": {
   "display_name": "Python (learn-env)",
   "language": "python",
   "name": "learn-env"
  },
  "language_info": {
   "codemirror_mode": {
    "name": "ipython",
    "version": 3
   },
   "file_extension": ".py",
   "mimetype": "text/x-python",
   "name": "python",
   "nbconvert_exporter": "python",
   "pygments_lexer": "ipython3",
   "version": "3.8.5"
  }
 },
 "nbformat": 4,
 "nbformat_minor": 5
}
